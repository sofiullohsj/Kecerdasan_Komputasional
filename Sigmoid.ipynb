{
  "nbformat": 4,
  "nbformat_minor": 0,
  "metadata": {
    "colab": {
      "provenance": [],
      "authorship_tag": "ABX9TyMzZQs7GJeRmSlAPra9C8qz",
      "include_colab_link": true
    },
    "kernelspec": {
      "name": "python3",
      "display_name": "Python 3"
    },
    "language_info": {
      "name": "python"
    }
  },
  "cells": [
    {
      "cell_type": "markdown",
      "metadata": {
        "id": "view-in-github",
        "colab_type": "text"
      },
      "source": [
        "<a href=\"https://colab.research.google.com/github/sofiullohsj/Kecerdasan_Komputasional/blob/main/Sigmoid.ipynb\" target=\"_parent\"><img src=\"https://colab.research.google.com/assets/colab-badge.svg\" alt=\"Open In Colab\"/></a>"
      ]
    },
    {
      "cell_type": "code",
      "source": [
        "import numpy as np \n",
        "def sig(x):\n",
        " return 1/(1 + np.exp(-x))"
      ],
      "metadata": {
        "id": "v1RfQNshpcS6"
      },
      "execution_count": 21,
      "outputs": []
    },
    {
      "cell_type": "code",
      "source": [
        "import numpy as np \n",
        "def sig(x):\n",
        " return 1/(1 + np.exp(-x))\n",
        "\n",
        "\n",
        "x = 1.0\n",
        "print('Applying Sigmoid Activation on (%.1f) gives %.1f' % (x, sig(x)))\n",
        "\n",
        "x = -10.0\n",
        "print('Applying Sigmoid Activation on (%.1f) gives %.1f' % (x, sig(x)))\n",
        "\n",
        "x = 0.0\n",
        "print('Applying Sigmoid Activation on (%.1f) gives %.1f' % (x, sig(x)))\n",
        "\n",
        "x = 15.0\n",
        "print('Applying Sigmoid Activation on (%.1f) gives %.1f' % (x, sig(x)))\n",
        "\n",
        "x = -2.0\n",
        "print('Applying Sigmoid Activation on (%.1f) gives %.1f' % (x, sig(x)))"
      ],
      "metadata": {
        "colab": {
          "base_uri": "https://localhost:8080/"
        },
        "id": "M4agtfAMuCpf",
        "outputId": "8a71fd49-c984-43ac-a292-c0c74325a6c6"
      },
      "execution_count": 22,
      "outputs": [
        {
          "output_type": "stream",
          "name": "stdout",
          "text": [
            "Applying Sigmoid Activation on (1.0) gives 0.7\n",
            "Applying Sigmoid Activation on (-10.0) gives 0.0\n",
            "Applying Sigmoid Activation on (0.0) gives 0.5\n",
            "Applying Sigmoid Activation on (15.0) gives 1.0\n",
            "Applying Sigmoid Activation on (-2.0) gives 0.1\n"
          ]
        }
      ]
    },
    {
      "cell_type": "code",
      "source": [
        "import numpy as np\n",
        "import matplotlib.pyplot as plt\n",
        "x = np.linspace(-20, 5, 50)\n",
        "print (x)   \n",
        "p = sig(x)\n",
        "plt.xlabel(\"x\") \n",
        "plt.ylabel(\"Sigmoid(x)\")  \n",
        "plt.plot(x, p) \n",
        "plt.show()"
      ],
      "metadata": {
        "colab": {
          "base_uri": "https://localhost:8080/",
          "height": 632
        },
        "id": "YPiMlel9uGNn",
        "outputId": "551fee51-d1ca-4ae4-fc5b-966900be7110"
      },
      "execution_count": 26,
      "outputs": [
        {
          "output_type": "stream",
          "name": "stdout",
          "text": [
            "[-20.         -19.48979592 -18.97959184 -18.46938776 -17.95918367\n",
            " -17.44897959 -16.93877551 -16.42857143 -15.91836735 -15.40816327\n",
            " -14.89795918 -14.3877551  -13.87755102 -13.36734694 -12.85714286\n",
            " -12.34693878 -11.83673469 -11.32653061 -10.81632653 -10.30612245\n",
            "  -9.79591837  -9.28571429  -8.7755102   -8.26530612  -7.75510204\n",
            "  -7.24489796  -6.73469388  -6.2244898   -5.71428571  -5.20408163\n",
            "  -4.69387755  -4.18367347  -3.67346939  -3.16326531  -2.65306122\n",
            "  -2.14285714  -1.63265306  -1.12244898  -0.6122449   -0.10204082\n",
            "   0.40816327   0.91836735   1.42857143   1.93877551   2.44897959\n",
            "   2.95918367   3.46938776   3.97959184   4.48979592   5.        ]\n"
          ]
        },
        {
          "output_type": "display_data",
          "data": {
            "text/plain": [
              "<Figure size 640x480 with 1 Axes>"
            ],
            "image/png": "[encoded data removed]"
          },
          "metadata": {}
        }
      ]
    },
    {
      "cell_type": "code",
      "source": [],
      "metadata": {
        "id": "sapksyT31MOX"
      },
      "execution_count": null,
      "outputs": []
    }
  ]
}